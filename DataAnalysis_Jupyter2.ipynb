{
 "cells": [
  {
   "cell_type": "markdown",
   "metadata": {
    "collapsed": true
   },
   "source": [
    "## Analysis of Hacker News Dataset\n",
    "* Hacker News is a site similar to Reddit, where people post topics and they are voted and commented upon.\n",
    "* We are going to focus on posts which begin with \"Ask HN\" or \"Show HN\". \n",
    "* \"Ask HN\" posts are those where a user posts something to ask from HN community, where \"Show HN\" posts are those which a user posts to show the HN community some project, product or something of interest.\n",
    "\n",
    "[Click here to view the Hacker News Dataset](https://www.kaggle.com/hacker-news/hacker-news-posts)\n",
    "\n",
    "---\n",
    "\n",
    "**Note** - I have used a subset of the dataset from the link given. Your results for the same code as below, might vary."
   ]
  },
  {
   "cell_type": "code",
   "execution_count": 6,
   "metadata": {
    "collapsed": false
   },
   "outputs": [
    {
     "name": "stdout",
     "output_type": "stream",
     "text": [
      "['id', 'title', 'url', 'num_points', 'num_comments', 'author', 'created_at']\n",
      "[['12224879', 'Interactive Dynamic Video', 'http://www.interactivedynamicvideo.com/', '386', '52', 'ne0phyte', '8/4/2016 11:52'], ['10975351', 'How to Use Open Source and Shut the Fuck Up at the Same Time', 'http://hueniverse.com/2016/01/26/how-to-use-open-source-and-shut-the-fuck-up-at-the-same-time/', '39', '10', 'josep2', '1/26/2016 19:30'], ['11964716', \"Florida DJs May Face Felony for April Fools' Water Joke\", 'http://www.thewire.com/entertainment/2013/04/florida-djs-april-fools-water-joke/63798/', '2', '1', 'vezycash', '6/23/2016 22:20'], ['11919867', 'Technology ventures: From Idea to Enterprise', 'https://www.amazon.com/Technology-Ventures-Enterprise-Thomas-Byers/dp/0073523429', '3', '1', 'hswarna', '6/17/2016 0:01'], ['10301696', 'Note by Note: The Making of Steinway L1037 (2007)', 'http://www.nytimes.com/2007/11/07/movies/07stein.html?_r=0', '8', '2', 'walterbell', '9/30/2015 4:12']]\n"
     ]
    }
   ],
   "source": [
    "#reading file\n",
    "#converting into list\n",
    "#separating header row\n",
    "import datetime as dt\n",
    "from csv import reader\n",
    "opened=open(\"hacker_news.csv\")\n",
    "read=reader(opened)\n",
    "hn=list(read)\n",
    "headers=hn[0]\n",
    "hn=hn[1:]\n",
    "print(headers)\n",
    "print(hn[:5])"
   ]
  },
  {
   "cell_type": "code",
   "execution_count": 37,
   "metadata": {
    "collapsed": false
   },
   "outputs": [
    {
     "name": "stdout",
     "output_type": "stream",
     "text": [
      "Records with 'Ask HN' :  1744\n",
      "Records with 'Show HN' :  1162\n",
      "Other Records :  17194\n"
     ]
    }
   ],
   "source": [
    "#separating \"Ask HN\",\"Show HN\" and Other posts as per title\n",
    "ask_posts=[]\n",
    "show_posts=[]\n",
    "other_posts=[]\n",
    "for row in hn:\n",
    "    title=row[1]\n",
    "    if title.lower().startswith('ask hn'):\n",
    "        ask_posts.append(row)\n",
    "    elif title.lower().startswith('show hn'):\n",
    "        show_posts.append(row)\n",
    "    else:\n",
    "        other_posts.append(row)\n",
    "print(\"Records with 'Ask HN' : \",len(ask_posts))\n",
    "print(\"Records with 'Show HN' : \",len(show_posts))\n",
    "print(\"Other Records : \",len(other_posts))"
   ]
  },
  {
   "cell_type": "code",
   "execution_count": 4,
   "metadata": {
    "collapsed": false
   },
   "outputs": [
    {
     "name": "stdout",
     "output_type": "stream",
     "text": [
      "Average comments on ASK posts :  14.038417431192661\n",
      "Average comments on SHOW posts :  10.31669535283993\n"
     ]
    }
   ],
   "source": [
    "#checking if 'Ask HN' or 'Show HN' posts receive more comments on average\n",
    "def avg_comments(recv_list):\n",
    "    total_comments=0\n",
    "    for row in recv_list:\n",
    "        num_comments=int(row[4])\n",
    "        total_comments+=num_comments\n",
    "    avg_comments=total_comments/len(recv_list)\n",
    "    return total_comments,avg_comments\n",
    "\n",
    "total_ask_comments,avg_ask_comments=avg_comments(ask_posts)\n",
    "total_show_comments,avg_show_comments=avg_comments(show_posts)\n",
    "print(\"Average comments on ASK posts : \",avg_ask_comments)\n",
    "print(\"Average comments on SHOW posts : \",avg_show_comments)"
   ]
  },
  {
   "cell_type": "markdown",
   "metadata": {},
   "source": [
    "#### Our inference from comment calculation above\n",
    "* In the above cell, we calculated the total and average comments received on 'Ask HN' and 'Show HN' posts.\n",
    "* As per the results, the 'Ask HN' posts have received more comments on average.\n",
    "* We will focus on the 'Ask HN' list/subset for further analysis."
   ]
  },
  {
   "cell_type": "code",
   "execution_count": 25,
   "metadata": {
    "collapsed": false
   },
   "outputs": [
    {
     "name": "stdout",
     "output_type": "stream",
     "text": [
      "[['21', 16.009174311926607], ['08', 10.25], ['17', 11.46], ['05', 10.08695652173913], ['07', 7.852941176470588], ['14', 13.233644859813085], ['20', 21.525], ['02', 23.810344827586206], ['03', 7.796296296296297], ['19', 10.8], ['04', 7.170212765957447], ['01', 11.383333333333333], ['22', 6.746478873239437], ['06', 9.022727272727273], ['15', 38.5948275862069], ['16', 16.796296296296298], ['11', 11.051724137931034], ['23', 7.985294117647059], ['09', 5.5777777777777775], ['00', 8.127272727272727], ['10', 13.440677966101696], ['13', 14.741176470588234], ['12', 9.41095890410959], ['18', 13.20183486238532]]\n"
     ]
    }
   ],
   "source": [
    "#calculating amount of 'Ask HN' posts and\n",
    "#comments on them created in each hour of the day\n",
    "result_list=[]\n",
    "for row in ask_posts:\n",
    "    local_list=[]\n",
    "    local_list.append(row[6])\n",
    "    local_list.append(int(row[4]))\n",
    "    result_list.append(local_list)\n",
    "    \n",
    "counts_by_hour={}\n",
    "comments_by_hours={}\n",
    "\n",
    "for row in result_list:\n",
    "    date=dt.datetime.strptime(row[0],\"%m/%d/%Y %H:%M\")\n",
    "    hour=date.strftime(\"%H\")\n",
    "    if hour not in counts_by_hour:\n",
    "        counts_by_hour[hour]=1\n",
    "        comments_by_hours[hour]=row[1]\n",
    "    else:\n",
    "        counts_by_hour[hour]+=1\n",
    "        comments_by_hours[hour]+=row[1]\n",
    "\n",
    "#counting avg comments per post per given hour\n",
    "avg_comments_hour=[]\n",
    "for hour in counts_by_hour:\n",
    "    local_list=[]\n",
    "    local_list.append(hour)\n",
    "    avg_comments_per_post=comments_by_hours[hour]/counts_by_hour[hour]\n",
    "    local_list.append(avg_comments_per_post)\n",
    "    avg_comments_hour.append(local_list)\n",
    "\n",
    "print(avg_comments_hour)"
   ]
  },
  {
   "cell_type": "code",
   "execution_count": 36,
   "metadata": {
    "collapsed": false
   },
   "outputs": [
    {
     "name": "stdout",
     "output_type": "stream",
     "text": [
      "[[16.009174311926607, '21'], [10.25, '08'], [11.46, '17'], [10.08695652173913, '05'], [7.852941176470588, '07'], [13.233644859813085, '14'], [21.525, '20'], [23.810344827586206, '02'], [7.796296296296297, '03'], [10.8, '19'], [7.170212765957447, '04'], [11.383333333333333, '01'], [6.746478873239437, '22'], [9.022727272727273, '06'], [38.5948275862069, '15'], [16.796296296296298, '16'], [11.051724137931034, '11'], [7.985294117647059, '23'], [5.5777777777777775, '09'], [8.127272727272727, '00'], [13.440677966101696, '10'], [14.741176470588234, '13'], [9.41095890410959, '12'], [13.20183486238532, '18']]\n",
      "Top 5 Hours for Ask Posts Comments : \n",
      "15:00: 38.59 average comments per post\n",
      "02:00: 23.81 average comments per post\n",
      "20:00: 21.52 average comments per post\n",
      "16:00: 16.80 average comments per post\n",
      "21:00: 16.01 average comments per post\n"
     ]
    }
   ],
   "source": [
    "#swapping and sorting the list obtained above in descending by hours value\n",
    "swap_avg_by_hour=[]\n",
    "for row in avg_comments_hour:\n",
    "    swap_avg_by_hour.append([row[1],row[0]])\n",
    "print(swap_avg_by_hour)\n",
    "sorted_swap=sorted(swap_avg_by_hour,reverse=True)\n",
    "\n",
    "print(\"Top 5 Hours for Ask Posts Comments : \")\n",
    "for row in sorted_swap[:5]:\n",
    "    date=dt.datetime.strptime(row[1],\"%H\")\n",
    "    hour=date.strftime(\"%H:00\")\n",
    "    output=\"{0}: {1:.2f} average comments per post\"\n",
    "    print(output.format(hour,row[0]))\n",
    "\n",
    "    "
   ]
  }
 ],
 "metadata": {
  "kernelspec": {
   "display_name": "Python 3",
   "language": "python",
   "name": "python3"
  },
  "language_info": {
   "codemirror_mode": {
    "name": "ipython",
    "version": 3
   },
   "file_extension": ".py",
   "mimetype": "text/x-python",
   "name": "python",
   "nbconvert_exporter": "python",
   "pygments_lexer": "ipython3",
   "version": "3.4.3"
  }
 },
 "nbformat": 4,
 "nbformat_minor": 2
}
